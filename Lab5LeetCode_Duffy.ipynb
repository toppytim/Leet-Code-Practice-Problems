{
 "cells": [
  {
   "cell_type": "code",
   "execution_count": 9,
   "metadata": {},
   "outputs": [
    {
     "name": "stdout",
     "output_type": "stream",
     "text": [
      "hello\n",
      "hello\n",
      "lovely\n"
     ]
    }
   ],
   "source": [
    "#709. to lower case \n",
    "#Implement function ToLowerCase() that has a string parameter str, and returns the same string in lowercase.\n",
    "s = 'Hello'\n",
    "print(s.lower())\n",
    "\n",
    "t = 'hello'\n",
    "print(t.lower())\n",
    "\n",
    "u = 'LOVELY'\n",
    "print(u.lower())\n",
    "\n"
   ]
  },
  {
   "cell_type": "code",
   "execution_count": 26,
   "metadata": {},
   "outputs": [
    {
     "name": "stdout",
     "output_type": "stream",
     "text": [
      "     March 2020\n",
      "Su Mo Tu We Th Fr Sa\n",
      " 1  2  3  4  5  6  7\n",
      " 8  9 10 11 12 13 14\n",
      "15 16 17 18 19 20 21\n",
      "22 23 24 25 26 27 28\n",
      "29 30 31\n",
      "\n",
      "Monday\n",
      "Tuesday\n",
      "Wednesday\n",
      "Thursday\n",
      "Friday\n",
      "Saturday\n",
      "Sunday\n"
     ]
    }
   ],
   "source": [
    "#1185. Day of the Week\n",
    "#Given a date, return the corresponding day of the week for that date.\n",
    "#The input is given as three integers representing the day, month and year respectively.\n",
    "#Return the answer as one of the following values [\"Sunday\", \"Monday\", \"Tuesday\", \"Wednesday\", \"Thursday\", \"Friday\", \"Saturday\"]\n",
    "\n",
    "import calendar\n",
    "c = calendar.TextCalendar(calendar.SUNDAY)\n",
    "str = c.formatmonth(2020,3)\n",
    "print(str)\n",
    "\n",
    "for day in calendar.day_name:\n",
    "    print(day)"
   ]
  },
  {
   "cell_type": "code",
   "execution_count": 30,
   "metadata": {},
   "outputs": [
    {
     "name": "stdout",
     "output_type": "stream",
     "text": [
      "Nums:  [2, 7, 11, 15]\n",
      "Target:  9\n",
      "Solution:  [0, 1]\n"
     ]
    }
   ],
   "source": [
    "#1. Two Sum\n",
    "#Given an array of integers, return indices of the two numbers such that they add up to a specific target.\n",
    "#You may assume that each input would have exactly one solution, and you may not use the same element twice.\n",
    "\n",
    "#Example Given nums = [2, 7, 11, 15], target = 9,\n",
    "#Because nums[0] + nums[1] = 2 + 7 = 9,\n",
    "#return [0, 1].\n",
    "\n",
    "def twoSum(nums, target):\n",
    "    \"\"\"\n",
    "    :type nums: List[int]\n",
    "    :type target: int\n",
    "    :rtype: List[int]\n",
    "    \"\"\"\n",
    "    index_map = {}\n",
    "    for i in range(len(nums)):\n",
    "        num = nums[i]\n",
    "        pair = target - num\n",
    "        if pair in index_map:\n",
    "            return [index_map[pair], i]\n",
    "        index_map[num] = i\n",
    "    return None\n",
    " \n",
    "nums = [2, 7, 11, 15]\n",
    "target = 9\n",
    "print(\"Nums: \", nums)\n",
    "print(\"Target: \", target)\n",
    "print(\"Solution: \", twoSum(nums, target))\n",
    " "
   ]
  },
  {
   "cell_type": "code",
   "execution_count": 24,
   "metadata": {},
   "outputs": [
    {
     "name": "stdout",
     "output_type": "stream",
     "text": [
      "smaller\n"
     ]
    }
   ],
   "source": [
    "#1365. How Many Numbers Are Smaller Than the Current Number\n",
    "#Given the array nums, for each nums[i] find out how many numbers in the array are smaller than it. \n",
    "#That is, for each nums[i] you have to count the number of valid j's such that j != i and nums[j] < nums[i].\n",
    "\n",
    "i = [8,1,2,2,3]\n",
    "j = [7,4,4,5,6]\n",
    "if j > i:\n",
    "  print(\"bigger\")\n",
    "elif j < i:\n",
    "  print(\"smaller\")"
   ]
  },
  {
   "cell_type": "code",
   "execution_count": 45,
   "metadata": {},
   "outputs": [],
   "source": [
    "#1108. Defanging an IP Address\n",
    "#Given a valid (IPv4) IP address, return a defanged version of that IP address.\n",
    "#A defanged IP address replaces every period \".\" with \"[.]\"\n",
    "#North America IP addy : 24.105.30.129\n",
    "\n",
    "class Solution:\n",
    "    address = \"24.105.30.129\"\n",
    "    def defangIPaddr(self, address: str) -> str:\n",
    "        return(address.replace('.','[.]'))\n",
    "    \n",
    "        #or??\n",
    "    \n",
    " class Solution:\n",
    "    def defangIPaddr(self, address: str) -> str:\n",
    "        new_address = \"24.105.30.129\"\n",
    "        \n",
    "        for c in address:\n",
    "            if c == \".\":\n",
    "                new_address += \"[.]\"\n",
    "            else:\n",
    "                new_address += c\n",
    "        \n",
    "        return new_address   "
   ]
  }
 ],
 "metadata": {
  "kernelspec": {
   "display_name": "Python 3.6",
   "language": "python",
   "name": "python36"
  },
  "language_info": {
   "codemirror_mode": {
    "name": "ipython",
    "version": 3
   },
   "file_extension": ".py",
   "mimetype": "text/x-python",
   "name": "python",
   "nbconvert_exporter": "python",
   "pygments_lexer": "ipython3",
   "version": "3.6.6"
  }
 },
 "nbformat": 4,
 "nbformat_minor": 2
}
